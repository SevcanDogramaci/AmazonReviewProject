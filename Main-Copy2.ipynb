{
 "cells": [
  {
   "cell_type": "code",
   "execution_count": 1,
   "metadata": {},
   "outputs": [],
   "source": [
    "from pattern_matcher import PatternMatcher\n",
    "from database_access import DatabaseAccess\n",
    "from preprocessor import Preprocessor\n",
    "from extracter_analyzer import *\n",
    "from plotter import Plotter\n",
    "from dbscan import DbScan\n",
    "\n",
    "from collections import Counter\n",
    "import os"
   ]
  },
  {
   "cell_type": "code",
   "execution_count": 2,
   "metadata": {},
   "outputs": [],
   "source": [
    "def get_reviews():\n",
    "    db_file = r\"amazon_reviews_us_shoes_v1_00_2015_top10000_bad.db\"\n",
    "    db_file = os.getcwd() + '\\data\\\\' + db_file\n",
    "\n",
    "    db = DatabaseAccess(db_file)\n",
    "    return db.retrive_reviews()"
   ]
  },
  {
   "cell_type": "code",
   "execution_count": 3,
   "metadata": {},
   "outputs": [],
   "source": [
    "def get_review(sentence_tuple):\n",
    "    review = preproc.split_review_into_sentences(original_review_bodys[sentence_tuple[1]])\n",
    "    return review[sentence_tuple[2]]"
   ]
  },
  {
   "cell_type": "code",
   "execution_count": 4,
   "metadata": {},
   "outputs": [],
   "source": [
    "def perform_tf_idf_and_print(min_df=0.05, max_df=0.9):\n",
    "    print(\"\\n<----- Tf Idf Starts ----->\")\n",
    "    tf_idf_review_bodys = get_tfidf(\n",
    "        [sen[0] for sen in cleaned_review_bodys], min_df=min_df, max_df=max_df)\n",
    "\n",
    "    # print results\n",
    "    print(tf_idf_review_bodys)\n",
    "    return tf_idf_review_bodys"
   ]
  },
  {
   "cell_type": "code",
   "execution_count": 5,
   "metadata": {},
   "outputs": [],
   "source": [
    "def perform_db_scan(data, min_samples_val, eps_val):\n",
    "    print(\"\\n<----- Db Scan Starts ----->\")\n",
    "\n",
    "    dbscan = DbScan()\n",
    "    dbres = dbscan.perform_db_scan(\n",
    "        data, min_samples_val, eps_val)  \n",
    "    \n",
    "    return dbres\n",
    "    \n",
    "def plot_db_scan(dbres, data, min_samples_val, eps_val, dataset_name):\n",
    "    plotter = Plotter()\n",
    "    title = dataset_name + \" - eps: \" + \\\n",
    "        str(eps_val) + \", min_samples: \" + str(min_samples_val)\n",
    "    plotter.plot_cluster(dbres, data, title)"
   ]
  },
  {
   "cell_type": "code",
   "execution_count": 6,
   "metadata": {},
   "outputs": [],
   "source": [
    "def extract_results(labels, original_data, review_bodys):\n",
    "    # print number of elements in each cluster\n",
    "    cluster_counts = Counter(labels)\n",
    "    print(cluster_counts)\n",
    "\n",
    "    clusters = {}\n",
    "    pattern_matcher = PatternMatcher()\n",
    "    # find and print dbscan result on actual text data - review_bodys\n",
    "    for i in set(labels):\n",
    "        if i != -1:  # do not print if noise (-1)\n",
    "            clusters[i] = []\n",
    "            print(i, \"----\")\n",
    "            for x in range(len(review_bodys)):\n",
    "                if labels[x] == i:\n",
    "                    \n",
    "                    print(\">>> Cleaned review ->\", (review_bodys[x][0]))\n",
    "                    \n",
    "                    sentence = get_review(review_bodys[x])\n",
    "                    matches = pattern_matcher.find_matches(sentence)\n",
    "                    clusters[i].append((review_bodys[x][0], sentence, matches))\n",
    "                    \n",
    "                    print(\">>> Review sentence ->\", sentence, \"\\n\")\n",
    "                    \n",
    "    return pattern_matcher.extract_objects(clusters)\n"
   ]
  },
  {
   "cell_type": "code",
   "execution_count": 7,
   "metadata": {},
   "outputs": [],
   "source": [
    "def stringify_results(objects):\n",
    "\n",
    "    objects_text = \"\"\n",
    "    adjectives_text = \"\"\n",
    "\n",
    "    for obj in objects:\n",
    "        for key in obj.keys():\n",
    "            objects_text += \" \" + key\n",
    "        for value in obj.values():\n",
    "            for val in value:\n",
    "                if val is not None:\n",
    "                    adjectives_text += \" \" + val\n",
    "    return objects_text, adjectives_text"
   ]
  },
  {
   "cell_type": "code",
   "execution_count": 8,
   "metadata": {},
   "outputs": [],
   "source": [
    "def plot_wordcloud(text):\n",
    "    from wordcloud import WordCloud\n",
    "    import matplotlib.pyplot as plt\n",
    "\n",
    "    wordcloud = WordCloud(width = 800, height = 800, \n",
    "                background_color ='white', \n",
    "                min_font_size =10).generate(text) \n",
    "\n",
    "    # plot the WordCloud image                        \n",
    "    plt.figure(figsize = (6, 6), facecolor = None) \n",
    "    plt.imshow(wordcloud, interpolation='bilinear') \n",
    "    plt.axis(\"off\") \n",
    "\n",
    "    plt.show()"
   ]
  },
  {
   "cell_type": "code",
   "execution_count": 9,
   "metadata": {},
   "outputs": [],
   "source": [
    "def print_results(results):\n",
    "    print(\"<<< Extracted Objects and Opinions >>>\")\n",
    "    for i, cluster in enumerate(results):\n",
    "        print(\"\\n>>> Cluster \", i, \"<<<\")\n",
    "\n",
    "        for obj, opinion in cluster.items():\n",
    "            print(\"-- \", obj, \": \", opinion)"
   ]
  },
  {
   "cell_type": "code",
   "execution_count": 10,
   "metadata": {},
   "outputs": [
    {
     "name": "stdout",
     "output_type": "stream",
     "text": [
      "Connected to database!\n"
     ]
    }
   ],
   "source": [
    "# initializations\n",
    "dataset_name = \"SHOES\"\n",
    "\n",
    "# get reviews from database\n",
    "data_frame = get_reviews()\n",
    "\n",
    "original_review_bodys = list(data_frame[\"review_body\"])\n",
    "\n",
    "preproc = Preprocessor()"
   ]
  },
  {
   "cell_type": "code",
   "execution_count": null,
   "metadata": {},
   "outputs": [],
   "source": [
    "data_frame = None  # to free memory space\n",
    "\n",
    "# clear reviews body with preprocessing, inside preprocessing.py\n",
    "cleaned_review_bodys = preproc.clear_reviews(\n",
    "    original_review_bodys, data_size=10000)"
   ]
  },
  {
   "cell_type": "code",
   "execution_count": null,
   "metadata": {},
   "outputs": [],
   "source": [
    "print(cleaned_review_bodys)"
   ]
  },
  {
   "cell_type": "code",
   "execution_count": null,
   "metadata": {},
   "outputs": [],
   "source": [
    "# tf-idf\n",
    "tf_idf_review_bodys = perform_tf_idf_and_print(min_df=1, max_df=0.8)"
   ]
  },
  {
   "cell_type": "code",
   "execution_count": null,
   "metadata": {},
   "outputs": [],
   "source": [
    "min_samples_val = 6\n",
    "eps_val = 0.85"
   ]
  },
  {
   "cell_type": "code",
   "execution_count": null,
   "metadata": {},
   "outputs": [],
   "source": [
    "db_res = perform_db_scan(tf_idf_review_bodys, min_samples_val, eps_val)"
   ]
  },
  {
   "cell_type": "code",
   "execution_count": null,
   "metadata": {},
   "outputs": [],
   "source": [
    "plot_db_scan(db_res, tf_idf_review_bodys, min_samples_val, eps_val, dataset_name)"
   ]
  },
  {
   "cell_type": "code",
   "execution_count": null,
   "metadata": {},
   "outputs": [],
   "source": [
    "cluster_objects_and_opinions = extract_results(db_res.labels_, original_review_bodys, cleaned_review_bodys)"
   ]
  },
  {
   "cell_type": "code",
   "execution_count": null,
   "metadata": {},
   "outputs": [],
   "source": [
    "print(cluster_objects_and_opinions)"
   ]
  },
  {
   "cell_type": "code",
   "execution_count": null,
   "metadata": {},
   "outputs": [],
   "source": [
    "print_results(cluster_objects_and_opinions)"
   ]
  },
  {
   "cell_type": "code",
   "execution_count": null,
   "metadata": {},
   "outputs": [],
   "source": [
    "objects, adjectives= stringify_results(cluster_objects_and_opinions)\n",
    "\n",
    "plot_wordcloud(objects) \n",
    "plot_wordcloud(adjectives)"
   ]
  },
  {
   "cell_type": "code",
   "execution_count": null,
   "metadata": {},
   "outputs": [],
   "source": []
  }
 ],
 "metadata": {
  "kernelspec": {
   "display_name": "Python 3",
   "language": "python",
   "name": "python3"
  },
  "language_info": {
   "codemirror_mode": {
    "name": "ipython",
    "version": 3
   },
   "file_extension": ".py",
   "mimetype": "text/x-python",
   "name": "python",
   "nbconvert_exporter": "python",
   "pygments_lexer": "ipython3",
   "version": "3.7.4"
  }
 },
 "nbformat": 4,
 "nbformat_minor": 2
}
